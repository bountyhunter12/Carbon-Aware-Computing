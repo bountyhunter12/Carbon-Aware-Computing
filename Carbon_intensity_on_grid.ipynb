{
  "nbformat": 4,
  "nbformat_minor": 0,
  "metadata": {
    "colab": {
      "provenance": [],
      "authorship_tag": "ABX9TyNYCCei1+GdcB6f3sTVyrgx",
      "include_colab_link": true
    },
    "kernelspec": {
      "name": "python3",
      "display_name": "Python 3"
    },
    "language_info": {
      "name": "python"
    }
  },
  "cells": [
    {
      "cell_type": "markdown",
      "metadata": {
        "id": "view-in-github",
        "colab_type": "text"
      },
      "source": [
        "<a href=\"https://colab.research.google.com/github/bountyhunter12/Carbon-Aware-Computing/blob/main/Carbon_intensity_on_grid.ipynb\" target=\"_parent\"><img src=\"https://colab.research.google.com/assets/colab-badge.svg\" alt=\"Open In Colab\"/></a>"
      ]
    },
    {
      "cell_type": "code",
      "source": [
        "# Create a dictionary with the coordinates\n",
        "coordinates = {\n",
        "    \"lat\":34.00906474557528,\n",
        "    \"lon\": -118.4984580927553\n",
        "}"
      ],
      "metadata": {
        "id": "W6X7e_xG2JV1"
      },
      "execution_count": 3,
      "outputs": []
    },
    {
      "cell_type": "markdown",
      "source": [
        "**Electricity Map's live carbon intensity endpoint**"
      ],
      "metadata": {
        "id": "kQIpJ5vLDqVE"
      }
    },
    {
      "cell_type": "code",
      "source": [
        "# Build the url\n",
        "url= f\"https://api.electricitymap.org/v3/carbon-intensity/latest?lat={coordinates['lat']}&lon={coordinates['lon']}\"\n",
        "\n",
        "# Print the endpoint\n",
        "print(\"Endpoint: \" + str(url))"
      ],
      "metadata": {
        "id": "Fk2Ol6Ub6dXD",
        "colab": {
          "base_uri": "https://localhost:8080/"
        },
        "outputId": "8b43bf7e-c22d-4d76-f4b9-fca30957fd18"
      },
      "execution_count": 4,
      "outputs": [
        {
          "output_type": "stream",
          "name": "stdout",
          "text": [
            "Endpoint: https://api.electricitymap.org/v3/carbon-intensity/latest?lat=34.00906474557528&lon=-118.4984580927553\n"
          ]
        }
      ]
    },
    {
      "cell_type": "code",
      "source": [
        "import json"
      ],
      "metadata": {
        "id": "m4b4Ded26jNZ"
      },
      "execution_count": 5,
      "outputs": []
    },
    {
      "cell_type": "code",
      "source": [
        "import requests\n",
        "\n",
        "response = requests.get(\n",
        "    f\"https://api.electricitymaps.com/v3/carbon-intensity/latest?lat={coordinates['lat']}&lon={coordinates['lon']}\",\n",
        "    headers={\n",
        "        \"auth-token\": f\"9DZxQaBNJ4VtyC94x2UR\"\n",
        "    }\n",
        ")\n",
        "print(response.json())"
      ],
      "metadata": {
        "colab": {
          "base_uri": "https://localhost:8080/"
        },
        "id": "gThlxIOF4HJ1",
        "outputId": "dd113fee-ff0b-432c-d5d6-2fc3488e7f6b"
      },
      "execution_count": 6,
      "outputs": [
        {
          "output_type": "stream",
          "name": "stdout",
          "text": [
            "{'zone': 'US-CAL-LDWP', 'carbonIntensity': 411, 'datetime': '2025-08-02T08:00:00.000Z', 'updatedAt': '2025-08-02T08:43:14.798Z', 'createdAt': '2025-07-30T08:42:43.815Z', 'emissionFactorType': 'lifecycle', 'isEstimated': True, 'estimationMethod': 'TIME_SLICER_AVERAGE', 'temporalGranularity': 'hourly'}\n"
          ]
        }
      ]
    },
    {
      "cell_type": "markdown",
      "source": [
        "**Use the live power breakdown endpoint.**"
      ],
      "metadata": {
        "id": "H20rzJ3zDy5a"
      }
    },
    {
      "cell_type": "code",
      "source": [
        "import requests\n",
        "\n",
        "response = requests.get(\n",
        "    f\"https://api.electricitymap.org/v3/power-breakdown/latest?lat={coordinates['lat']}&lon={coordinates['lon']}\",\n",
        "    headers={\n",
        "        \"auth-token\": f\"9DZxQaBNJ4VtyC94x2UR\"\n",
        "    }\n",
        ")\n",
        "power_breakdown = json.loads(response.content)\n",
        "\n",
        "# Print the content\n",
        "power_breakdown"
      ],
      "metadata": {
        "colab": {
          "base_uri": "https://localhost:8080/"
        },
        "id": "jOxHBUpODsrP",
        "outputId": "7d59f86f-9ad0-46ee-e484-b0cbf55fbd08"
      },
      "execution_count": 7,
      "outputs": [
        {
          "output_type": "execute_result",
          "data": {
            "text/plain": [
              "{'zone': 'US-CAL-LDWP',\n",
              " 'datetime': '2025-08-02T08:00:00.000Z',\n",
              " 'updatedAt': '2025-08-02T08:43:14.798Z',\n",
              " 'createdAt': '2025-07-30T08:42:43.815Z',\n",
              " 'powerConsumptionBreakdown': {'nuclear': 136,\n",
              "  'geothermal': 0,\n",
              "  'biomass': 0,\n",
              "  'coal': 372,\n",
              "  'wind': 331,\n",
              "  'solar': 0,\n",
              "  'hydro': 643,\n",
              "  'gas': 1458,\n",
              "  'oil': 1,\n",
              "  'unknown': 148,\n",
              "  'hydro discharge': 66,\n",
              "  'battery discharge': 12},\n",
              " 'powerProductionBreakdown': {'nuclear': None,\n",
              "  'geothermal': None,\n",
              "  'biomass': None,\n",
              "  'coal': 140,\n",
              "  'wind': 116,\n",
              "  'solar': 0,\n",
              "  'hydro': 272,\n",
              "  'gas': 1743,\n",
              "  'oil': None,\n",
              "  'unknown': 232,\n",
              "  'hydro discharge': 115,\n",
              "  'battery discharge': 0},\n",
              " 'powerImportBreakdown': {'US-NW-BPAT': 1508,\n",
              "  'US-NW-NEVP': 0,\n",
              "  'US-NW-PACE': 459,\n",
              "  'US-SW-AZPS': 277,\n",
              "  'US-SW-WALC': 639,\n",
              "  'US-CAL-CISO': 0},\n",
              " 'powerExportBreakdown': {'US-NW-BPAT': 0,\n",
              "  'US-NW-NEVP': 1259,\n",
              "  'US-NW-PACE': 0,\n",
              "  'US-SW-AZPS': 0,\n",
              "  'US-SW-WALC': 0,\n",
              "  'US-CAL-CISO': 1073},\n",
              " 'fossilFreePercentage': 38,\n",
              " 'renewablePercentage': 33,\n",
              " 'powerConsumptionTotal': 3168,\n",
              " 'powerProductionTotal': 2617,\n",
              " 'powerImportTotal': 2883,\n",
              " 'powerExportTotal': 2332,\n",
              " 'isEstimated': True,\n",
              " 'estimationMethod': 'TIME_SLICER_AVERAGE',\n",
              " 'temporalGranularity': 'hourly'}"
            ]
          },
          "metadata": {},
          "execution_count": 7
        }
      ]
    },
    {
      "cell_type": "markdown",
      "source": [
        "**Print some specific values.**"
      ],
      "metadata": {
        "id": "XWFtvCoRD4Yq"
      }
    },
    {
      "cell_type": "code",
      "source": [
        "power_breakdown['renewablePercentage']"
      ],
      "metadata": {
        "colab": {
          "base_uri": "https://localhost:8080/"
        },
        "id": "S4UaqsyvD14J",
        "outputId": "5d596d7d-5203-441c-f3f9-288a33ad7533"
      },
      "execution_count": 8,
      "outputs": [
        {
          "output_type": "execute_result",
          "data": {
            "text/plain": [
              "33"
            ]
          },
          "metadata": {},
          "execution_count": 8
        }
      ]
    },
    {
      "cell_type": "code",
      "source": [
        "power_breakdown['fossilFreePercentage']"
      ],
      "metadata": {
        "colab": {
          "base_uri": "https://localhost:8080/"
        },
        "id": "MCeJxM-7EJCX",
        "outputId": "e89bf04d-9cb1-4f68-c717-08c0254d3357"
      },
      "execution_count": 9,
      "outputs": [
        {
          "output_type": "execute_result",
          "data": {
            "text/plain": [
              "38"
            ]
          },
          "metadata": {},
          "execution_count": 9
        }
      ]
    },
    {
      "cell_type": "code",
      "source": [
        "# Power Consumption Breakdown in MegaWatts\n",
        "power_breakdown['powerConsumptionBreakdown']"
      ],
      "metadata": {
        "colab": {
          "base_uri": "https://localhost:8080/"
        },
        "id": "i9N-EiRYEOGX",
        "outputId": "7e8acd3e-fdc5-4a77-cf63-bdc6b635ac66"
      },
      "execution_count": 10,
      "outputs": [
        {
          "output_type": "execute_result",
          "data": {
            "text/plain": [
              "{'nuclear': 136,\n",
              " 'geothermal': 0,\n",
              " 'biomass': 0,\n",
              " 'coal': 372,\n",
              " 'wind': 331,\n",
              " 'solar': 0,\n",
              " 'hydro': 643,\n",
              " 'gas': 1458,\n",
              " 'oil': 1,\n",
              " 'unknown': 148,\n",
              " 'hydro discharge': 66,\n",
              " 'battery discharge': 12}"
            ]
          },
          "metadata": {},
          "execution_count": 10
        }
      ]
    },
    {
      "cell_type": "markdown",
      "source": [
        "**some math to understand better the values above.**"
      ],
      "metadata": {
        "id": "CuhPGuRhFEYQ"
      }
    },
    {
      "cell_type": "code",
      "source": [
        "import numpy as np"
      ],
      "metadata": {
        "id": "TUATdwJaERYZ"
      },
      "execution_count": 11,
      "outputs": []
    },
    {
      "cell_type": "code",
      "source": [
        "total_consumption = power_breakdown['powerConsumptionTotal']"
      ],
      "metadata": {
        "id": "dNKRajvgETxH"
      },
      "execution_count": 12,
      "outputs": []
    },
    {
      "cell_type": "code",
      "source": [
        "total_consumption"
      ],
      "metadata": {
        "colab": {
          "base_uri": "https://localhost:8080/"
        },
        "id": "xM_DikJKEWE3",
        "outputId": "0903f5dd-ff2c-480b-b304-79d470c415e8"
      },
      "execution_count": 13,
      "outputs": [
        {
          "output_type": "execute_result",
          "data": {
            "text/plain": [
              "3168"
            ]
          },
          "metadata": {},
          "execution_count": 13
        }
      ]
    },
    {
      "cell_type": "code",
      "source": [
        "consumption_percent = {\n",
        "    k: np.round((v/total_consumption) * 100)\n",
        "    for k,v\n",
        "    in power_breakdown['powerConsumptionBreakdown'].items()}\n",
        "consumption_percent"
      ],
      "metadata": {
        "colab": {
          "base_uri": "https://localhost:8080/"
        },
        "id": "TFH8pECKEYlI",
        "outputId": "75295be3-d238-47c3-d460-98b98e9271f1"
      },
      "execution_count": 14,
      "outputs": [
        {
          "output_type": "execute_result",
          "data": {
            "text/plain": [
              "{'nuclear': np.float64(4.0),\n",
              " 'geothermal': np.float64(0.0),\n",
              " 'biomass': np.float64(0.0),\n",
              " 'coal': np.float64(12.0),\n",
              " 'wind': np.float64(10.0),\n",
              " 'solar': np.float64(0.0),\n",
              " 'hydro': np.float64(20.0),\n",
              " 'gas': np.float64(46.0),\n",
              " 'oil': np.float64(0.0),\n",
              " 'unknown': np.float64(5.0),\n",
              " 'hydro discharge': np.float64(2.0),\n",
              " 'battery discharge': np.float64(0.0)}"
            ]
          },
          "metadata": {},
          "execution_count": 14
        }
      ]
    },
    {
      "cell_type": "markdown",
      "source": [
        "**Helper function for the power_stats**"
      ],
      "metadata": {
        "id": "4KJ26KB8mFzr"
      }
    },
    {
      "cell_type": "code",
      "source": [
        "def power_stats(lat, lon, api_key=\"9DZxQaBNJ4VtyC94x2UR\"):\n",
        "    coordinates = {\"lat\": lat, \"lon\": lon}\n",
        "\n",
        "    url_intensity = f\"https://api.electricitymap.org/v3/carbon-intensity/latest?lat={coordinates['lat']}&lon={coordinates['lon']}\"\n",
        "    request_intensity = requests.get(url_intensity, headers={\"auth-token\": api_key})\n",
        "    intensity = json.loads(request_intensity.content)\n",
        "\n",
        "    url_breakdown = f\"https://api.electricitymap.org/v3/power-breakdown/latest?lat={coordinates['lat']}&lon={coordinates['lon']}\"\n",
        "    request_breakdown = requests.get(url_breakdown, headers={\"auth-token\": api_key})\n",
        "    breakdown = json.loads(request_breakdown.content)\n",
        "\n",
        "    # Debug print to inspect the full response\n",
        "    print(\"BREAKDOWN RESPONSE:\")\n",
        "    print(json.dumps(breakdown, indent=2))\n",
        "\n",
        "    # Optional: check for error\n",
        "    if 'error' in breakdown:\n",
        "        return intensity, {\"error\": breakdown['message']}\n",
        "\n",
        "    # Safely access with .get() to prevent KeyErrors\n",
        "    breakdown_abridged = {\n",
        "        'renewablePercentage': breakdown.get('renewablePercentage', 'N/A'),\n",
        "        'fossilFreePercentage': breakdown.get('fossilFreePercentage', 'N/A'),\n",
        "        'powerConsumptionBreakdown': breakdown.get('powerConsumptionBreakdown', {}),\n",
        "        'consumption_percent': {\n",
        "            k: np.round((v / breakdown['powerConsumptionTotal']) * 100)\n",
        "            for k, v in breakdown.get('powerConsumptionBreakdown', {}).items()\n",
        "        } if breakdown.get('powerConsumptionTotal') else {}\n",
        "    }\n",
        "\n",
        "    return intensity, breakdown_abridged\n"
      ],
      "metadata": {
        "id": "cym0mNZyEfwS"
      },
      "execution_count": 15,
      "outputs": []
    },
    {
      "cell_type": "code",
      "source": [
        "# Coordinates from a landmark in Taiwan, shown by the instructor in the explanation\n",
        "intensity, breakdown = power_stats(\n",
        "    lat=34.06105197282242,\n",
        "    lon=-118.4429445707998)\n",
        ""
      ],
      "metadata": {
        "colab": {
          "base_uri": "https://localhost:8080/"
        },
        "id": "KlRXcHDKEt5y",
        "outputId": "28f4c055-1c4d-4fb8-8a43-30bb70621c50"
      },
      "execution_count": 20,
      "outputs": [
        {
          "output_type": "stream",
          "name": "stdout",
          "text": [
            "BREAKDOWN RESPONSE:\n",
            "{\n",
            "  \"zone\": \"US-CAL-LDWP\",\n",
            "  \"datetime\": \"2025-08-02T08:00:00.000Z\",\n",
            "  \"updatedAt\": \"2025-08-02T08:43:14.798Z\",\n",
            "  \"createdAt\": \"2025-07-30T08:42:43.815Z\",\n",
            "  \"powerConsumptionBreakdown\": {\n",
            "    \"nuclear\": 136,\n",
            "    \"geothermal\": 0,\n",
            "    \"biomass\": 0,\n",
            "    \"coal\": 372,\n",
            "    \"wind\": 331,\n",
            "    \"solar\": 0,\n",
            "    \"hydro\": 643,\n",
            "    \"gas\": 1458,\n",
            "    \"oil\": 1,\n",
            "    \"unknown\": 148,\n",
            "    \"hydro discharge\": 66,\n",
            "    \"battery discharge\": 12\n",
            "  },\n",
            "  \"powerProductionBreakdown\": {\n",
            "    \"nuclear\": null,\n",
            "    \"geothermal\": null,\n",
            "    \"biomass\": null,\n",
            "    \"coal\": 140,\n",
            "    \"wind\": 116,\n",
            "    \"solar\": 0,\n",
            "    \"hydro\": 272,\n",
            "    \"gas\": 1743,\n",
            "    \"oil\": null,\n",
            "    \"unknown\": 232,\n",
            "    \"hydro discharge\": 115,\n",
            "    \"battery discharge\": 0\n",
            "  },\n",
            "  \"powerImportBreakdown\": {\n",
            "    \"US-NW-BPAT\": 1508,\n",
            "    \"US-NW-NEVP\": 0,\n",
            "    \"US-NW-PACE\": 459,\n",
            "    \"US-SW-AZPS\": 277,\n",
            "    \"US-SW-WALC\": 639,\n",
            "    \"US-CAL-CISO\": 0\n",
            "  },\n",
            "  \"powerExportBreakdown\": {\n",
            "    \"US-NW-BPAT\": 0,\n",
            "    \"US-NW-NEVP\": 1259,\n",
            "    \"US-NW-PACE\": 0,\n",
            "    \"US-SW-AZPS\": 0,\n",
            "    \"US-SW-WALC\": 0,\n",
            "    \"US-CAL-CISO\": 1073\n",
            "  },\n",
            "  \"fossilFreePercentage\": 38,\n",
            "  \"renewablePercentage\": 33,\n",
            "  \"powerConsumptionTotal\": 3168,\n",
            "  \"powerProductionTotal\": 2617,\n",
            "  \"powerImportTotal\": 2883,\n",
            "  \"powerExportTotal\": 2332,\n",
            "  \"isEstimated\": true,\n",
            "  \"estimationMethod\": \"TIME_SLICER_AVERAGE\",\n",
            "  \"temporalGranularity\": \"hourly\"\n",
            "}\n"
          ]
        }
      ]
    },
    {
      "cell_type": "code",
      "source": [
        "intensity"
      ],
      "metadata": {
        "id": "dzn6ksPXF_CG",
        "colab": {
          "base_uri": "https://localhost:8080/"
        },
        "outputId": "9f2dd9d9-9b2b-48d7-ec9c-d0d6cebdd9e1"
      },
      "execution_count": 17,
      "outputs": [
        {
          "output_type": "execute_result",
          "data": {
            "text/plain": [
              "{'zone': 'US-CAL-LDWP',\n",
              " 'carbonIntensity': 411,\n",
              " 'datetime': '2025-08-02T08:00:00.000Z',\n",
              " 'updatedAt': '2025-08-02T08:43:14.798Z',\n",
              " 'createdAt': '2025-07-30T08:42:43.815Z',\n",
              " 'emissionFactorType': 'lifecycle',\n",
              " 'isEstimated': True,\n",
              " 'estimationMethod': 'TIME_SLICER_AVERAGE',\n",
              " 'temporalGranularity': 'hourly'}"
            ]
          },
          "metadata": {},
          "execution_count": 17
        }
      ]
    },
    {
      "cell_type": "code",
      "source": [
        "breakdown"
      ],
      "metadata": {
        "id": "xsc2nmqTF_om",
        "colab": {
          "base_uri": "https://localhost:8080/"
        },
        "outputId": "d067be13-6799-4749-ff67-62f9f8ddc2a0"
      },
      "execution_count": 18,
      "outputs": [
        {
          "output_type": "execute_result",
          "data": {
            "text/plain": [
              "{'renewablePercentage': 33,\n",
              " 'fossilFreePercentage': 38,\n",
              " 'powerConsumptionBreakdown': {'nuclear': 136,\n",
              "  'geothermal': 0,\n",
              "  'biomass': 0,\n",
              "  'coal': 372,\n",
              "  'wind': 331,\n",
              "  'solar': 0,\n",
              "  'hydro': 643,\n",
              "  'gas': 1458,\n",
              "  'oil': 1,\n",
              "  'unknown': 148,\n",
              "  'hydro discharge': 66,\n",
              "  'battery discharge': 12},\n",
              " 'consumption_percent': {'nuclear': np.float64(4.0),\n",
              "  'geothermal': np.float64(0.0),\n",
              "  'biomass': np.float64(0.0),\n",
              "  'coal': np.float64(12.0),\n",
              "  'wind': np.float64(10.0),\n",
              "  'solar': np.float64(0.0),\n",
              "  'hydro': np.float64(20.0),\n",
              "  'gas': np.float64(46.0),\n",
              "  'oil': np.float64(0.0),\n",
              "  'unknown': np.float64(5.0),\n",
              "  'hydro discharge': np.float64(2.0),\n",
              "  'battery discharge': np.float64(0.0)}}"
            ]
          },
          "metadata": {},
          "execution_count": 18
        }
      ]
    }
  ]
}